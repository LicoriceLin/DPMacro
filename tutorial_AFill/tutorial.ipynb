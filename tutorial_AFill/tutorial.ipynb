{
 "cells": [
  {
   "cell_type": "code",
   "execution_count": 1,
   "metadata": {},
   "outputs": [],
   "source": [
    "#add the path of my package `DPMacro`\n",
    "import sys\n",
    "sys.path.append('/home/zhenfeng/ProteinFeature_1/DPMacro')\n",
    "import AFill\n"
   ]
  },
  {
   "cell_type": "code",
   "execution_count": 2,
   "metadata": {},
   "outputs": [],
   "source": [
    "a=AFill.structure_aligner()"
   ]
  },
  {
   "cell_type": "code",
   "execution_count": 4,
   "metadata": {},
   "outputs": [],
   "source": [
    "a._set_structure('multimer_af2_afm_ft_0506_c16_sd0.5_s512_4k.pt_9871_r11_e1.pdb')\n",
    "a.load_reference('1h2r.pdb')\n",
    "\n"
   ]
  },
  {
   "cell_type": "code",
   "execution_count": 5,
   "metadata": {},
   "outputs": [
    {
     "name": "stdout",
     "output_type": "stream",
     "text": [
      "{'A': 'MASNGHSAGQNAIDELPDISPVDGIRRRLDDPQVAEALNSLLDHADLLAVLVKGLDGFVRRGDDIANNLTSAIGELKALNAADTPIPALAALKDVDLAGLANSLATLSGGLVKATPALNAVLDSLTDQRGAEVLSALGDALVAARTSAPPAPRGVRGMWKTLRAAAKDPDVGRGVSYLIEVARVFGSKV', 'B': 'MSAWSHPQFEKGGGSGGGSGGSAWSHPQFEKSGGGGGENLYFQGSGGASVLWFQGGACSGNTMSFLNADEPNVVDLIVDFGLDLLWHPSLGLELGNNAQKVFWDCAKGERPLDIFVFEGTVIEAPNGTGQMDMFAGRPMKDWVTDLAGAAQIVVAIGDCACFGGIPAMEPNPSGSTGLQFHKREKGGFLGPDFRSKMGLPVINVPGCPAHPDWITQILVALATGRAGDITLDDLHRPETFFKTFTQTGCTRVQFFEYKQSTLSFGEGTRTGCLFYEFGCRGPMTHSPCNRILWNRQSSKTRAGMPCLGCTEPEFPHFDLAPGTVFKTQKVSGMIPKEVPEGTDHLTYMGLAAAARIAAPQWSKEDMFVV', 'C': 'MSAWSHPQFEKGGGSGGGSGGSAWSHPQFEKSGGGGGENLYFQGSGGASVLWFQGGACSGNTMSFLNADEPNVVDLIVDFGLDLLWHPSLGLELGNNAQKVFWDCAKGERPLDIFVFEGTVIEAPNGTGQMDMFAGRPMKDWVTDLAGAAQIVVAIGDCACFGGIPAMEPNPSGSTGLQFHKREKGGFLGPDFRSKMGLPVINVPGCPAHPDWITQILVALATGRAGDITLDDLHRPETFFKTFTQTGCTRVQFFEYKQSTLSFGEGTRTGCLFYEFGCRGPMTHSPCNRILWNRQSSKTRAGMPCLGCTEPEFPHFDLAPGTVFKTQKVSGMIPKEVPEGTDHLTYMGLAAAARIAAPQWSKEDMFVV', 'D': 'MTELDLFVSPLGRVEGDLDVRVTINDGVVTSAWTEAAMFRGFEIILRGKDPQAGLIVCPRICGICGGSHLYKSAYALDTAWRTHMPPNATLIRNICQACETLQSIPRYFYALFAIDLTNKNYAKSKLYDEAVRRFAPYVGTSYQPGVVLSAKPVEVYAIFGGQWPHSSFMVPGGVMSAPTLSDVTRAIAILEHWNDNWLEKQWLGCSVDRWLENKTWNDVLAWVDENESQYNSDCGFFIRYCLDVGLDKYGQGVGNYLATGTYFEPSLYENPTIEGRNAALIGRSGVFADGRYFEFDQANVTEDVTHSFYEGNRPLHPFEGETIPVNPEDGRRQGKYSWAKSPRYAVPGLGNVPLETGPLARRMAASAPDAETHQDDDPLFADIYNAIGPSVMVRQLARMHEGPKYYKWVRQWLDDLELKESFYTKPVEYAEGKGFGSTEAARGALSDWIVIEDSKIKNYQVVTPTAWNIGPRDASEVLGPIEQALVGSPIVDAEDPVELGHVARSFDSCLVCTVHAYDGKTGKELNRFVINGMV', 'E': 'MTELDLFVSPLGRVEGDLDVRVTINDGVVTSAWTEAAMFRGFEIILRGKDPQAGLIVCPRICGICGGSHLYKSAYALDTAWRTHMPPNATLIRNICQACETLQSIPRYFYALFAIDLTNKNYAKSKLYDEAVRRFAPYVGTSYQPGVVLSAKPVEVYAIFGGQWPHSSFMVPGGVMSAPTLSDVTRAIAILEHWNDNWLEKQWLGCSVDRWLENKTWNDVLAWVDENESQYNSDCGFFIRYCLDVGLDKYGQGVGNYLATGTYFEPSLYENPTIEGRNAALIGRSGVFADGRYFEFDQANVTEDVTHSFYEGNRPLHPFEGETIPVNPEDGRRQGKYSWAKSPRYAVPGLGNVPLETGPLARRMAASAPDAETHQDDDPLFADIYNAIGPSVMVRQLARMHEGPKYYKWVRQWLDDLELKESFYTKPVEYAEGKGFGSTEAARGALSDWIVIEDSKIKNYQVVTPTAWNIGPRDASEVLGPIEQALVGSPIVDAEDPVELGHVARSFDSCLVCTVHAYDGKTGKELNRFVINGMV'}\n",
      "{'S': 'LMGPRRPSVVYLHNAECTGCSESVLRAFEPYIDTLILDTLSLDYHETIMAAAGDAAEAALEQAVNSPHGFIAVVEGGIPTAANGIYGKVANHTMLDICSRILPKAQAVIAYGTCATFGGVQAAKPNPTGAKGVNDALKHLGVKAINIAGCPPNPYNLVGTIVYYLKNKAAPELDSLNRPTMFFGQTVHEQCPRLPHFDAGEFAPSFESEEARKGWCLYELGCKGPVTMNNCPKIKFNQTNWPVDAGHPCIGCSEPDFWDAMTPFYQNXXXXXXXXXXXXXXXXXXXXXXXXXXXXXXXXXXXXXXXXXXXXXXXXXXXXXXXXXXXXXXXXXXXXXXXXXXXXXXXXXXXXXXXXXXXXXXXXXXXXXXXXXXXXXXXXXXXXXXXXXXXXXXXXXXXXXXXXXXXXXXXXXXXXXXXXXXXXXXXXXXXXXXXXXXXXXXXXXXXXXXXXXXXXXXXXXXXX', 'L': 'SSYSGPIVVDPVTRIEGHLRIEVEVENGKVKNAYSSSTLFRGLEIILKGRDPRDAQHFTQRTCGVCTYTHALASTRCVDNAVGVHIPKNATYIRNLVLGAQYLHDHIVHFYHLHALDFVDVTAALKADPAKAAKVASSISPRKTTAADLKAVQDKLKTFVETGQLGPFTNAYFLGGHPAYYLDPETNLIATAHYLEALRLQVKAARAMAVFGAKNPHTQFTVVGGVTCYDALTPQRIAEFEALWKETKAFVDEVYIPDLLVVAAAYKDWTQYGGTDNFITFGEFPKDEYDLNSRFFKPGVVFKRDFKNIKPFDKMQIEEHVRHSWYEGAEARHPWKGQTQPKYTDLHGDDRYSWMKAPRYMGEPMETGPLAQVLIAYSQGHPKVKAVTDAVLAKLGVGPEALFSTLGRTAARGIETAVIAEYVGVMLQEYKDNIAKGDNVICAPWEMPKQAEGVGFVNAPRGGLSHWIRIEDGKIGNFQLVVPSTWTLGPRCDKNNVSPVEASLIGTPVADAKRPVEILRTVHSFDPCIACGVHXXXXXXXXXXXXXXXXXXXXXXXXXXXXXXXXXXXXXXXXXXXXXXXXXXXXXXXXXXXXXXXXXXXXXXXXXXXXXXXXXXXXXXXXXXXXXXXXXXXXXXXXXXXXXXXXXXXXXXXXXXXXXXXXXXXXXXXXXXXXXXXXXXXXXXXXXXXXXXXXXXXXXXXXXXXXXXXXXXXXXXXXXXXXXXXXXXXXXXXXXXXXXXXXXXXXXXXXXXXXXXXXXXXXXXXXXXXXXXXXXXXXXXXXXXXXXXXXXXXXXXXXXXXXXXXXXXXXXXXXXXXXXXXXXXXXXXXXXXXXXXXXXXXXXXXXXXXXXXXXXXXXXXXXXXXXXXXXXXXXXXXXXXXXXXXXXXXXXXXXXXXXXXXXXXXXXXXXXXXXXXXXXX'}\n"
     ]
    }
   ],
   "source": [
    "#check a.sequences and a.reference_sequences for existing chain \n",
    "print(a.sequences)\n",
    "print(a.reference_sequences)"
   ]
  },
  {
   "cell_type": "code",
   "execution_count": 6,
   "metadata": {},
   "outputs": [
    {
     "data": {
      "text/plain": [
       "[<Residue SF4 het=H_SF4 resseq=1001 icode= >,\n",
       " <Residue SF4 het=H_SF4 resseq=1002 icode= >,\n",
       " <Residue F3S het=H_F3S resseq=1003 icode= >,\n",
       " <Residue MG het=H_MG resseq=1005 icode= >,\n",
       " <Residue NFE het=H_NFE resseq=1004 icode= >]"
      ]
     },
     "execution_count": 6,
     "metadata": {},
     "output_type": "execute_result"
    }
   ],
   "source": [
    "#check a.ligands for available ligands\n",
    "a.ligands"
   ]
  },
  {
   "cell_type": "code",
   "execution_count": 7,
   "metadata": {},
   "outputs": [],
   "source": [
    "#choose a ligand for downsteam job\n",
    "a.set_ligand(a.ligands[0])\n",
    "\n"
   ]
  },
  {
   "cell_type": "code",
   "execution_count": 8,
   "metadata": {},
   "outputs": [
    {
     "data": {
      "text/plain": [
       "{<Residue ARG het=  resseq=59 icode= >,\n",
       " <Residue ARG het=  resseq=79 icode= >,\n",
       " <Residue GLY het=  resseq=82 icode= >,\n",
       " <Residue HIS het=  resseq=235 icode= >,\n",
       " <Residue ALA het=  resseq=15 icode= >,\n",
       " <Residue GLU het=  resseq=16 icode= >,\n",
       " <Residue CYS het=  resseq=17 icode= >,\n",
       " <Residue THR het=  resseq=18 icode= >,\n",
       " <Residue GLY het=  resseq=19 icode= >,\n",
       " <Residue CYS het=  resseq=20 icode= >,\n",
       " <Residue GLU het=  resseq=75 icode= >,\n",
       " <Residue GLY het=  resseq=76 icode= >,\n",
       " <Residue TYR het=  resseq=111 icode= >,\n",
       " <Residue GLY het=  resseq=112 icode= >,\n",
       " <Residue THR het=  resseq=113 icode= >,\n",
       " <Residue CYS het=  resseq=114 icode= >,\n",
       " <Residue ALA het=  resseq=115 icode= >,\n",
       " <Residue GLY het=  resseq=119 icode= >,\n",
       " <Residue VAL het=  resseq=120 icode= >,\n",
       " <Residue GLN het=  resseq=121 icode= >,\n",
       " <Residue GLY het=  resseq=149 icode= >,\n",
       " <Residue CYS het=  resseq=150 icode= >,\n",
       " <Residue PRO het=  resseq=151 icode= >,\n",
       " <Residue PRO het=  resseq=152 icode= >,\n",
       " <Residue TRP het=  resseq=258 icode= >}"
      ]
     },
     "execution_count": 8,
     "metadata": {},
     "output_type": "execute_result"
    }
   ],
   "source": [
    "#use a.neighbor to see residue within 6 a of the chosen ligand.\n",
    "a.neighbor"
   ]
  },
  {
   "cell_type": "code",
   "execution_count": 11,
   "metadata": {},
   "outputs": [],
   "source": [
    "# or a more clear version will be like:\n",
    "# from util import  _integrated_residue_iterator\n",
    "# for i in _integrated_residue_iterator(a.neighbor):\n",
    "#     print(i.get_full_id()[1:] )"
   ]
  },
  {
   "cell_type": "code",
   "execution_count": 9,
   "metadata": {},
   "outputs": [
    {
     "data": {
      "text/plain": [
       "'(chain S and resi 113 ) or (chain S and resi 17 ) or (chain S and resi 258 ) or (chain S and resi 150 ) or (chain S and resi 119 ) or (chain L and resi 59 ) or (chain S and resi 20 ) or (chain L and resi 235 ) or (chain S and resi 19 ) or (chain S and resi 115 ) or (chain S and resi 112 ) or (chain S and resi 149 ) or (chain S and resi 75 ) or (chain S and resi 152 ) or (chain S and resi 121 ) or (chain S and resi 16 ) or (chain S and resi 15 ) or (chain S and resi 111 ) or (chain L and resi 82 ) or (chain L and resi 79 ) or (chain S and resi 114 ) or (chain S and resi 151 ) or (chain S and resi 120 ) or (chain S and resi 18 ) or (chain S and resi 76 )'"
      ]
     },
     "execution_count": 9,
     "metadata": {},
     "output_type": "execute_result"
    }
   ],
   "source": [
    "#select neighbors in pymol\n",
    "AFill.reslist_to_guicode(a.neighbor,'pymol')"
   ]
  },
  {
   "cell_type": "code",
   "execution_count": 10,
   "metadata": {},
   "outputs": [],
   "source": [
    "# the neighbor contains chain S & L,so we will go to map thses 2 chain in our model to target.\n",
    "# so far, which chain in our model is mapped to concerned chain rely on visualization check.\n",
    "# but I'm dealing with it,try to make it more smart.\n",
    "a._align('B','S')\n",
    "a.map_neighbor()\n",
    "a._align('D','L')\n",
    "a.map_neighbor()\n"
   ]
  },
  {
   "cell_type": "code",
   "execution_count": 11,
   "metadata": {},
   "outputs": [
    {
     "data": {
      "text/plain": [
       "[<Residue GLY het=  resseq=56 icode= >,\n",
       " <Residue ALA het=  resseq=57 icode= >,\n",
       " <Residue CYS het=  resseq=58 icode= >,\n",
       " <Residue SER het=  resseq=59 icode= >,\n",
       " <Residue GLY het=  resseq=60 icode= >,\n",
       " <Residue ASN het=  resseq=61 icode= >,\n",
       " <Residue GLU het=  resseq=118 icode= >,\n",
       " <Residue GLY het=  resseq=119 icode= >,\n",
       " <Residue ILE het=  resseq=156 icode= >,\n",
       " <Residue GLY het=  resseq=157 icode= >,\n",
       " <Residue ASP het=  resseq=158 icode= >,\n",
       " <Residue CYS het=  resseq=159 icode= >,\n",
       " <Residue ALA het=  resseq=160 icode= >,\n",
       " <Residue GLY het=  resseq=164 icode= >,\n",
       " <Residue ILE het=  resseq=165 icode= >,\n",
       " <Residue PRO het=  resseq=166 icode= >,\n",
       " <Residue GLY het=  resseq=206 icode= >,\n",
       " <Residue CYS het=  resseq=207 icode= >,\n",
       " <Residue PRO het=  resseq=208 icode= >,\n",
       " <Residue ALA het=  resseq=209 icode= >,\n",
       " <Residue XXX het=place_holder resseq=0 icode= >,\n",
       " <Residue ARG het=  resseq=40 icode= >,\n",
       " <Residue ARG het=  resseq=60 icode= >,\n",
       " <Residue GLY het=  resseq=63 icode= >,\n",
       " <Residue LYS het=  resseq=215 icode= >]"
      ]
     },
     "execution_count": 11,
     "metadata": {},
     "output_type": "execute_result"
    }
   ],
   "source": [
    "#check a.align or a.alignment_frame for full residue map\n",
    "#right now,a.align / a.alignment_frame will be overwrite when run a._align().I'm repairing it\n",
    "\n",
    "#check a.mapped_neighbor for mapped pocket.\n",
    "a.mapped_neighbor\n"
   ]
  },
  {
   "cell_type": "code",
   "execution_count": 12,
   "metadata": {},
   "outputs": [
    {
     "data": {
      "text/plain": [
       "'(chain B and resi 56 ) or (chain B and resi 57 ) or (chain B and resi 58 ) or (chain B and resi 59 ) or (chain B and resi 60 ) or (chain B and resi 61 ) or (chain B and resi 118 ) or (chain B and resi 119 ) or (chain B and resi 156 ) or (chain B and resi 157 ) or (chain B and resi 158 ) or (chain B and resi 159 ) or (chain B and resi 160 ) or (chain B and resi 164 ) or (chain B and resi 165 ) or (chain B and resi 166 ) or (chain B and resi 206 ) or (chain B and resi 207 ) or (chain B and resi 208 ) or (chain B and resi 209 ) or (chain D and resi 40 ) or (chain D and resi 60 ) or (chain D and resi 63 ) or (chain D and resi 215 )'"
      ]
     },
     "execution_count": 12,
     "metadata": {},
     "output_type": "execute_result"
    }
   ],
   "source": [
    "\n",
    "AFill.reslist_to_guicode(a.mapped_neighbor,'pymol')\n"
   ]
  }
 ],
 "metadata": {
  "interpreter": {
   "hash": "b93a4aa1409fb5619fc3f99be5c746ab5c78771f977c7c84e5d5e64ade9808da"
  },
  "kernelspec": {
   "display_name": "Python 3.9.12 ('AFill')",
   "language": "python",
   "name": "python3"
  },
  "language_info": {
   "codemirror_mode": {
    "name": "ipython",
    "version": 3
   },
   "file_extension": ".py",
   "mimetype": "text/x-python",
   "name": "python",
   "nbconvert_exporter": "python",
   "pygments_lexer": "ipython3",
   "version": "3.9.12"
  },
  "orig_nbformat": 4
 },
 "nbformat": 4,
 "nbformat_minor": 2
}
