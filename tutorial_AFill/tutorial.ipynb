{
 "cells": [
  {
   "cell_type": "markdown",
   "metadata": {},
   "source": [
    "run block with #execute to execute certain function\n",
    "run block with #check to check the certain property "
   ]
  },
  {
   "cell_type": "code",
   "execution_count": 22,
   "metadata": {},
   "outputs": [],
   "source": [
    "#execute\n",
    "# add the path and load the module\n",
    "#(I haven't write the setup.py)\n",
    "import os \n",
    "os.chdir('/home/zhenfeng/ProteinFeature_1/DPMacro/tutorial_AFill')\n",
    "import sys\n",
    "sys.path.append('/home/zhenfeng/ProteinFeature_1/DPMacro')\n",
    "import AFill as af\n"
   ]
  },
  {
   "cell_type": "code",
   "execution_count": 2,
   "metadata": {},
   "outputs": [
    {
     "name": "stdout",
     "output_type": "stream",
     "text": [
      "Help on module AFill:\n",
      "\n",
      "NAME\n",
      "    AFill\n",
      "\n",
      "CLASSES\n",
      "    BaseClasses.ResidueFeatureExtractor(BaseClasses.StructFeatureExtractor)\n",
      "        structure_aligner\n",
      "    \n",
      "    class structure_aligner(BaseClasses.ResidueFeatureExtractor)\n",
      "     |  structure_aligner(rna: bool = False)\n",
      "     |  \n",
      "     |  Method resolution order:\n",
      "     |      structure_aligner\n",
      "     |      BaseClasses.ResidueFeatureExtractor\n",
      "     |      BaseClasses.StructFeatureExtractor\n",
      "     |      builtins.object\n",
      "     |  \n",
      "     |  Methods defined here:\n",
      "     |  \n",
      "     |  __init__(self, rna: bool = False)\n",
      "     |      set rna=True if processing RNA\n",
      "     |      so far it only affects the generation of self.sequences and self.reference_sequences\n",
      "     |  \n",
      "     |  align_sequence(self, object_chain: str, reference_chain: str) -> pandas.core.frame.DataFrame\n",
      "     |      align two sequences, one from object structure and another from reference structure\n",
      "     |      \n",
      "     |      1.set self.alignment._records, a MultipleSeqAlignment instance.\n",
      "     |      2.set self.alignment_frame, a DataFrame with 2 columns,  'object_residue' & 'reference_residue',\n",
      "     |          each row is a residue mapping.\n",
      "     |          when a residue is mapped to '-', util.RESIDUE_HOLDER object will be used to fill the blanket.\n",
      "     |      \n",
      "     |      Note:\n",
      "     |      need to run self.map_neighbor to set self.mapped_neighbor under most cases!\n",
      "     |  \n",
      "     |  align_structure(self, save_ligand: bool = True, save_pocket: bool = False, ligandfile: str = 'aligned_ligand.pdb', ref_pocketfile: str = 'aligned_pocket.pdb', obj_pocketfile: str = 'model_pocket.pdb') -> Tuple[float, float]\n",
      "     |      invoke pymol to align the structure.\n",
      "     |      load file of self.reference_path & self.object_path;\n",
      "     |      select the ligand, ref_pocket & target_pocket, align the pockets\n",
      "     |      (now use pymol.cmd.align but it's said that in low homology system, cmd.cealign/super performs better. )\n",
      "     |      then save the ligand & pocket pdb upon request.\n",
      "     |  \n",
      "     |  init_mapped_neighbor(self)\n",
      "     |      a tool to init and reset the `mapped_neighbor` \n",
      "     |      use when you mapped one system ,and want to run the next one.\n",
      "     |  \n",
      "     |  load_reference(self, struct: Union[str, Bio.PDB.Structure.Structure])\n",
      "     |      set the self.reference & self.reference_sequences according to input structure.\n",
      "     |      set self.ligands, a list contains all non-water ligand  residue in the reference.\n",
      "     |      set self.proteins, a list contains all protein residue in the reference.\n",
      "     |      set self.chain_distance, a Dict[str,Dict[str,str]] object.\n",
      "     |      outer key: chain id in object,inner key:chain id in reference\n",
      "     |      value:distance calculate in dnd.\n",
      "     |  \n",
      "     |  load_structure(self, struct: Union[str, Bio.PDB.Structure.Structure], filepath: Optional[str] = None) -> None\n",
      "     |      public method of self._set_structure()\n",
      "     |      1.it read in a structure as origin `_set_structure` does.\n",
      "     |      2.it will init self.sequence,a {chainid:seq} dict, according to structure.\n",
      "     |          i.X(unrecognised residue e.g. solvent) at the begining and end of the sequence will be removed\n",
      "     |          ii.protein-rna hybrid system is untested. if process RNA, remember to set rna=True when init the instance.\n",
      "     |      3.it will init self.object_path,a path for pymol to readin input structure.\n",
      "     |  \n",
      "     |  map_neighbor(self)\n",
      "     |      set self.mapped_neighbor, list of residues homologous with the self.neighbor in self.object.\n",
      "     |      according to the alignment information in self.alignment_frame (gen by align_sequence),\n",
      "     |  \n",
      "     |  save_align(self, save_ligand: bool = True, save_pocket: bool = True, ligandfile: str = 'aligned_ligand.pdb', ref_pocketfile: str = 'aligned_pocket.pdb', obj_pocketfile: str = 'model_pocket.pdb') -> Tuple[float, float]\n",
      "     |      2 usages:\n",
      "     |      1. if you have run self.tranform(), use this method to run alignment and save .pdb file\n",
      "     |      2. if you are sure about the chain mapping relationship:\n",
      "     |          1st, run `self.mapped_chain=tuple(str,str,...)` (object chain homological to chain in self.neighbor_chain)\n",
      "     |          2nd, run this method to align (and save the structure, if you like).\n",
      "     |  \n",
      "     |  set_ligand(self, ligand: Bio.PDB.Residue.Residue)\n",
      "     |      choose a ligand from self.ligands\n",
      "     |      set it to self.selected_ligand\n",
      "     |      calculate protein residues within 6 A of self.selected_ligand\n",
      "     |      set the self.neighbor as a list of these residues.\n",
      "     |      set the self.neighbor_chain as a list of chain contains self.neighbor.\n",
      "     |  \n",
      "     |  transform(self) -> Tuple[Tuple[str], Tuple[float]]\n",
      "     |      run transform when you are not sure about chain mapping relation ship.\n",
      "     |      it will traverse all the combination, and return the pocket with the lowest pocket rmsd.\n",
      "     |      chain map will be save in self.mapped_chain (tuple)\n",
      "     |      best pocket rmsd will be save in self.rmsd\n",
      "     |      the rmsd of whole structure and the pocket will be returned.\n",
      "     |  \n",
      "     |  ----------------------------------------------------------------------\n",
      "     |  Methods inherited from BaseClasses.StructFeatureExtractor:\n",
      "     |  \n",
      "     |  __repr__(self)\n",
      "     |      show Extractor instance in following manner:\n",
      "     |      <Extractor : {self.operation_name} : {struct_id_} : ', '.join(list(self.frame.columns))>\n",
      "     |  \n",
      "     |  get_feature(self) -> pandas.core.series.Series\n",
      "     |      may be deprecated soon\n",
      "     |      the MultiIndex of pandas may be too tricky.\n",
      "     |      I'm trying to wrap it into a more convenient manner\n",
      "     |  \n",
      "     |  ----------------------------------------------------------------------\n",
      "     |  Data descriptors inherited from BaseClasses.StructFeatureExtractor:\n",
      "     |  \n",
      "     |  __dict__\n",
      "     |      dictionary for instance variables (if defined)\n",
      "     |  \n",
      "     |  __weakref__\n",
      "     |      list of weak references to the object (if defined)\n",
      "\n",
      "FUNCTIONS\n",
      "    reslist_to_guicode(reslist: Union[Bio.PDB.Entity.Entity, Iterable[Bio.PDB.Entity.Entity], Bio.PDB.Atom.Atom, Iterable[Bio.PDB.Atom.Atom]], guiplatform: Literal['pymol', 'vmd'] = 'pymol') -> str\n",
      "        generate the selection sentence for pymol / vmd.\n",
      "        note: \n",
      "        it only generate the sub-model level selection.\n",
      "        that means,for example, you load xxx.pdb into pymol and want to select part of it by this function\n",
      "        the selection should be f\"xxx and { reslist_to_guicode(...) }\"\n",
      "\n",
      "DATA\n",
      "    Dict = typing.Dict\n",
      "        A generic version of dict.\n",
      "    \n",
      "    List = typing.List\n",
      "        A generic version of list.\n",
      "    \n",
      "    Literal = typing.Literal\n",
      "        Special typing form to define literal types (a.k.a. value types).\n",
      "        \n",
      "        This form can be used to indicate to type checkers that the corresponding\n",
      "        variable or function parameter has a value equivalent to the provided\n",
      "        literal (or one of several literals):\n",
      "        \n",
      "          def validate_simple(data: Any) -> Literal[True]:  # always returns True\n",
      "              ...\n",
      "        \n",
      "          MODE = Literal['r', 'rb', 'w', 'wb']\n",
      "          def open_helper(file: str, mode: MODE) -> str:\n",
      "              ...\n",
      "        \n",
      "          open_helper('/some/path', 'r')  # Passes type check\n",
      "          open_helper('/other/path', 'typo')  # Error in type checker\n",
      "        \n",
      "        Literal[...] cannot be subclassed. At runtime, an arbitrary value\n",
      "        is allowed as type argument to Literal[...], but type checkers may\n",
      "        impose restrictions.\n",
      "    \n",
      "    RESIDUE_HOLDER = <Residue XXX het=place_holder resseq=0 icode= >\n",
      "    Tuple = typing.Tuple\n",
      "        Tuple type; Tuple[X, Y] is the cross-product type of X and Y.\n",
      "        \n",
      "        Example: Tuple[T1, T2] is a tuple of two elements corresponding\n",
      "        to type variables T1 and T2.  Tuple[int, float, str] is a tuple\n",
      "        of an int, a float and a string.\n",
      "        \n",
      "        To specify a variable-length tuple of homogeneous type, use Tuple[T, ...].\n",
      "    \n",
      "    Union = typing.Union\n",
      "        Union type; Union[X, Y] means either X or Y.\n",
      "        \n",
      "        To define a union, use e.g. Union[int, str].  Details:\n",
      "        - The arguments must be types and there must be at least one.\n",
      "        - None as an argument is a special case and is replaced by\n",
      "          type(None).\n",
      "        - Unions of unions are flattened, e.g.::\n",
      "        \n",
      "            Union[Union[int, str], float] == Union[int, str, float]\n",
      "        \n",
      "        - Unions of a single argument vanish, e.g.::\n",
      "        \n",
      "            Union[int] == int  # The constructor actually returns int\n",
      "        \n",
      "        - Redundant arguments are skipped, e.g.::\n",
      "        \n",
      "            Union[int, str, int] == Union[int, str]\n",
      "        \n",
      "        - When comparing unions, the argument order is ignored, e.g.::\n",
      "        \n",
      "            Union[int, str] == Union[str, int]\n",
      "        \n",
      "        - You cannot subclass or instantiate a union.\n",
      "        - You can use Optional[X] as a shorthand for Union[X, None].\n",
      "    \n",
      "    allowed_platform = typing.Literal['pymol', 'vmd']\n",
      "    allowed_residue_source = typing.Union[Bio.PDB.Entity.Entity, typing.It...\n",
      "    amino3to1dict = {'00C': 'C', '01W': 'X', '02K': 'A', '03Y': 'C', '07O'...\n",
      "    nucleic_acid_dict = {'A': 'A', 'C': 'C', 'G': 'G', 'T': 'T', 'U': 'U'}\n",
      "\n",
      "FILE\n",
      "    /home/zhenfeng/ProteinFeature_1/DPMacro/AFill.py\n",
      "\n",
      "\n"
     ]
    }
   ],
   "source": [
    "#check the docstring for full help doc \n",
    "help(af)"
   ]
  },
  {
   "cell_type": "code",
   "execution_count": 3,
   "metadata": {},
   "outputs": [],
   "source": [
    "#execute\n",
    "#load the model(object) structure and the rev structure \n",
    "aligner=af.structure_aligner()\n",
    "aligner.load_structure('multimer_af2_afm_ft_0506_c16_sd0.5_s512_4k.pt_9871_r11_e1.pdb')\n",
    "aligner.load_reference('1h2r.pdb')"
   ]
  },
  {
   "cell_type": "code",
   "execution_count": 4,
   "metadata": {},
   "outputs": [
    {
     "data": {
      "text/plain": [
       "{'S': 'LMGPRRPSVVYLHNAECTGCSESVLRAFEPYIDTLILDTLSLDYHETIMAAAGDAAEAALEQAVNSPHGFIAVVEGGIPTAANGIYGKVANHTMLDICSRILPKAQAVIAYGTCATFGGVQAAKPNPTGAKGVNDALKHLGVKAINIAGCPPNPYNLVGTIVYYLKNKAAPELDSLNRPTMFFGQTVHEQCPRLPHFDAGEFAPSFESEEARKGWCLYELGCKGPVTMNNCPKIKFNQTNWPVDAGHPCIGCSEPDFWDAMTPFYQN',\n",
       " 'L': 'SSYSGPIVVDPVTRIEGHLRIEVEVENGKVKNAYSSSTLFRGLEIILKGRDPRDAQHFTQRTCGVCTYTHALASTRCVDNAVGVHIPKNATYIRNLVLGAQYLHDHIVHFYHLHALDFVDVTAALKADPAKAAKVASSISPRKTTAADLKAVQDKLKTFVETGQLGPFTNAYFLGGHPAYYLDPETNLIATAHYLEALRLQVKAARAMAVFGAKNPHTQFTVVGGVTCYDALTPQRIAEFEALWKETKAFVDEVYIPDLLVVAAAYKDWTQYGGTDNFITFGEFPKDEYDLNSRFFKPGVVFKRDFKNIKPFDKMQIEEHVRHSWYEGAEARHPWKGQTQPKYTDLHGDDRYSWMKAPRYMGEPMETGPLAQVLIAYSQGHPKVKAVTDAVLAKLGVGPEALFSTLGRTAARGIETAVIAEYVGVMLQEYKDNIAKGDNVICAPWEMPKQAEGVGFVNAPRGGLSHWIRIEDGKIGNFQLVVPSTWTLGPRCDKNNVSPVEASLIGTPVADAKRPVEILRTVHSFDPCIACGVH'}"
      ]
     },
     "execution_count": 4,
     "metadata": {},
     "output_type": "execute_result"
    }
   ],
   "source": [
    "#check\n",
    "#check the fasta information\n",
    "aligner.sequences\n",
    "aligner.reference_sequences"
   ]
  },
  {
   "cell_type": "code",
   "execution_count": 5,
   "metadata": {},
   "outputs": [
    {
     "data": {
      "text/plain": [
       "{'A': {'S': 0.45503, 'L': 0.48148},\n",
       " 'B': {'S': 0.3427, 'L': 0.48238},\n",
       " 'C': {'S': 0.3427, 'L': 0.48238},\n",
       " 'D': {'S': 0.46629, 'L': 0.37453},\n",
       " 'E': {'S': 0.46629, 'L': 0.37453}}"
      ]
     },
     "execution_count": 5,
     "metadata": {},
     "output_type": "execute_result"
    }
   ],
   "source": [
    "#check\n",
    "#chain distance may give you some insight on chain's homology\n",
    "aligner.chain_distance\n"
   ]
  },
  {
   "cell_type": "code",
   "execution_count": 6,
   "metadata": {},
   "outputs": [
    {
     "data": {
      "text/plain": [
       "[<Residue SF4 het=H_SF4 resseq=1001 icode= >,\n",
       " <Residue SF4 het=H_SF4 resseq=1002 icode= >,\n",
       " <Residue F3S het=H_F3S resseq=1003 icode= >,\n",
       " <Residue MG het=H_MG resseq=1005 icode= >,\n",
       " <Residue NFE het=H_NFE resseq=1004 icode= >]"
      ]
     },
     "execution_count": 6,
     "metadata": {},
     "output_type": "execute_result"
    }
   ],
   "source": [
    "#check the ligand list\n",
    "aligner.ligands"
   ]
  },
  {
   "cell_type": "code",
   "execution_count": 17,
   "metadata": {},
   "outputs": [
    {
     "data": {
      "text/plain": [
       "True"
      ]
     },
     "execution_count": 17,
     "metadata": {},
     "output_type": "execute_result"
    }
   ],
   "source": [
    "#check\n",
    "#residue in aligner.ligands is the same residue in aligner.reference\n",
    "aligner.reference[0]['S'][('H_SF4', 1002, ' ')] is aligner.ligands[1]"
   ]
  },
  {
   "cell_type": "code",
   "execution_count": 18,
   "metadata": {},
   "outputs": [],
   "source": [
    "#execute\n",
    "#set the ligand of concern fro down stream work\n",
    "aligner.set_ligand(aligner.reference[0]['S'][('H_F3S', 1003, ' ')])"
   ]
  },
  {
   "cell_type": "code",
   "execution_count": 25,
   "metadata": {},
   "outputs": [
    {
     "data": {
      "text/plain": [
       "('S', 'L')"
      ]
     },
     "execution_count": 25,
     "metadata": {},
     "output_type": "execute_result"
    }
   ],
   "source": [
    "#check\n",
    "#aligner.neighbor save the  residue objects within 6 A of seolected ligand\n",
    "#aligner.neighbor_chain save the chain id\n",
    "aligner.neighbor\n",
    "aligner.neighbor_chain\n"
   ]
  },
  {
   "cell_type": "markdown",
   "metadata": {},
   "source": [
    "function 1: do not know the homology chain ?\n",
    "run  aligner.transform() directly,\n",
    "it will try all chain combination and return the combination with lowest pocket rmsd.\n",
    "it will print: combination, number of hit residue,rmsd (full &pocket) \n",
    "and return: best chain combine; rmsd (full &pocket) \n",
    "\n",
    "then run aligner.save_align() to save the pdbs."
   ]
  },
  {
   "cell_type": "markdown",
   "metadata": {},
   "source": [
    "Warning!\n",
    "you can see that since cmd.align will drop a few atoms in each alignment cycle,\n",
    "wrong chain hit can have as nice behavior as the 'right one'\n",
    "going to be debugged. "
   ]
  },
  {
   "cell_type": "code",
   "execution_count": 19,
   "metadata": {},
   "outputs": [
    {
     "name": "stdout",
     "output_type": "stream",
     "text": [
      "('A', 'B')\t12\t(0.9076577425003052, 2.1527609825134277)\t('A', 'C')\t12\t(0.9076577425003052, 2.1527609825134277)\t('A', 'D')\t12\t(0.9076577425003052, 2.1527609825134277)\t('A', 'E')\t12\t(0.9076577425003052, 2.1527609825134277)\t('B', 'A')\t20\t(0.9076577425003052, 0.4204222559928894)\t('B', 'C')\t20\t(0.9076577425003052, 0.4204222559928894)\t('B', 'D')\t20\t(0.9076577425003052, 0.4204222559928894)\t('B', 'E')\t20\t(0.9076577425003052, 0.4204222559928894)\t('C', 'A')\t20\t(0.9076577425003052, 0.422482430934906)\t('C', 'B')\t20\t(0.9076577425003052, 0.422482430934906)\t('C', 'D')\t20\t(0.9076577425003052, 0.422482430934906)\t('C', 'E')\t20\t(0.9076577425003052, 0.422482430934906)\t('D', 'A')\t20\t(0.9076577425003052, 6.543617248535156)\t('D', 'B')\t20\t(0.9076577425003052, 6.543617248535156)\t('D', 'C')\t20\t(0.9076577425003052, 6.543617248535156)\t('D', 'E')\t20\t(0.9076577425003052, 6.543617248535156)\t('E', 'A')\t20\t(0.9076577425003052, 6.539333820343018)\t('E', 'B')\t20\t(0.9076577425003052, 6.539333820343018)\t('E', 'C')\t20\t(0.9076577425003052, 6.539333820343018)\t('E', 'D')\t20\t(0.9076577425003052, 6.539333820343018)\t"
     ]
    },
    {
     "data": {
      "text/plain": [
       "(('B', 'A'), (0.9076577425003052, 0.4204222559928894))"
      ]
     },
     "execution_count": 19,
     "metadata": {},
     "output_type": "execute_result"
    }
   ],
   "source": [
    "aligner.transform()"
   ]
  },
  {
   "cell_type": "code",
   "execution_count": 24,
   "metadata": {},
   "outputs": [
    {
     "data": {
      "text/plain": [
       "(0.9076577425003052, 0.4204222559928894)"
      ]
     },
     "execution_count": 24,
     "metadata": {},
     "output_type": "execute_result"
    }
   ],
   "source": [
    "aligner.save_align()"
   ]
  },
  {
   "cell_type": "markdown",
   "metadata": {},
   "source": [
    "function 2: sure about the chain map?\n",
    "set aligner.mapped_chain,and run aligner.save_align directly"
   ]
  },
  {
   "cell_type": "code",
   "execution_count": 28,
   "metadata": {},
   "outputs": [
    {
     "data": {
      "text/plain": [
       "(0.9076577425003052, 0.4204222559928894)"
      ]
     },
     "execution_count": 28,
     "metadata": {},
     "output_type": "execute_result"
    }
   ],
   "source": [
    "aligner.mapped_chain=('B','D')\n",
    "aligner.save_align(ligandfile='bdligand.pdb',\n",
    "                    ref_pocketfile='bdaligned_pocket.pdb',\n",
    "                    obj_pocketfile='bdmodel_pocket.pdb')"
   ]
  }
 ],
 "metadata": {
  "interpreter": {
   "hash": "b93a4aa1409fb5619fc3f99be5c746ab5c78771f977c7c84e5d5e64ade9808da"
  },
  "kernelspec": {
   "display_name": "Python 3.9.12 ('AFill')",
   "language": "python",
   "name": "python3"
  },
  "language_info": {
   "codemirror_mode": {
    "name": "ipython",
    "version": 3
   },
   "file_extension": ".py",
   "mimetype": "text/x-python",
   "name": "python",
   "nbconvert_exporter": "python",
   "pygments_lexer": "ipython3",
   "version": "3.9.12"
  },
  "orig_nbformat": 4
 },
 "nbformat": 4,
 "nbformat_minor": 2
}
