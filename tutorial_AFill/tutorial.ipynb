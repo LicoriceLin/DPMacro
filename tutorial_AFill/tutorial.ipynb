{
   "cells": [
    {
     "cell_type": "markdown",
     "metadata": {},
     "source": [
      "run block with #execute to execute certain function\n",
      "run block with #check to check the certain property "
     ]
    },
    {
     "cell_type": "code",
     "execution_count": 1,
     "metadata": {},
     "outputs": [],
     "source": [
      "#execute\n",
      "# add the path and load the module\n",
      "#(I haven't write the setup.py)\n",
      "import os \n",
      "import sys\n",
      "import DPMacro.AFill as af\n"
     ]
    },
    {
     "cell_type": "code",
     "execution_count": 10,
     "metadata": {},
     "outputs": [],
     "source": [
      "#split frames\n",
      "from DPMacro.util import read_in,write_out\n",
      "# from itertools import enumerate\n",
      "def split_frame(file:str)->None:\n",
      "    s=read_in(file)\n",
      "    if len(s)<=1:\n",
      "        raise ValueError\n",
      "    outdir=file.replace('.pdb','')\n",
      "    if not os.path.isdir(outdir):\n",
      "        os.mkdir(outdir)\n",
      "    for i,frame in enumerate(s):\n",
      "        write_out(frame,os.path.join(outdir,f'{i}.pdb'))\n",
      "split_frame('/root/DPMacro/tutorial_AFill/1ei2.pdb')\n",
      "\n",
      "\n"
     ]
    },
    {
     "cell_type": "code",
     "execution_count": 22,
     "metadata": {},
     "outputs": [],
     "source": [
      "#execute\n",
      "#load the model(object) structure and the rev structure \n",
      "aligner=af.structure_aligner(rna=True)\n",
      "# aligner.load_structure('/root/DPMacro/tutorial_AFill/1ei2/0.pdb')\n",
      "aligner.load_reference('/root/DPMacro/tutorial_AFill/1ei2/1.pdb')"
     ]
    },
    {
     "cell_type": "code",
     "execution_count": 24,
     "metadata": {},
     "outputs": [
      {
       "data": {
        "text/plain": [
         "{'A': 'GGCAGUGUGAGUACCUUCACACGUC'}"
        ]
       },
       "execution_count": 24,
       "metadata": {},
       "output_type": "execute_result"
      }
     ],
     "source": [
      "#check\n",
      "#check the fasta information\n",
      "# aligner.sequences\n",
      "aligner.reference_sequences"
     ]
    },
    {
     "cell_type": "code",
     "execution_count": 7,
     "metadata": {},
     "outputs": [],
     "source": [
      "#check\n",
      "#chain distance may give you some insight on chain's homology\n",
      "# aligner.chain_distance\n"
     ]
    },
    {
     "cell_type": "code",
     "execution_count": 25,
     "metadata": {},
     "outputs": [
      {
       "data": {
        "text/plain": [
         "[<Residue NMY het=H_NMY resseq=26 icode= >]"
        ]
       },
       "execution_count": 25,
       "metadata": {},
       "output_type": "execute_result"
      }
     ],
     "source": [
      "#check the ligand list\n",
      "aligner.ligands"
     ]
    },
    {
     "cell_type": "code",
     "execution_count": 26,
     "metadata": {},
     "outputs": [
      {
       "data": {
        "text/plain": [
         "True"
        ]
       },
       "execution_count": 26,
       "metadata": {},
       "output_type": "execute_result"
      }
     ],
     "source": [
      "#check\n",
      "#residue in aligner.ligands is the same residue in aligner.reference\n",
      "aligner.reference[0]['A'][('H_NMY', 26, ' ')] is aligner.ligands[0]"
     ]
    },
    {
     "cell_type": "code",
     "execution_count": 27,
     "metadata": {},
     "outputs": [],
     "source": [
      "#execute\n",
      "#set the ligand of concern fro down stream work\n",
      "aligner.set_ligand(aligner.ligands[0])"
     ]
    },
    {
     "cell_type": "code",
     "execution_count": 30,
     "metadata": {},
     "outputs": [
      {
       "data": {
        "text/plain": [
         "[<Residue A het=  resseq=21 icode= >,\n",
         " <Residue G het=  resseq=5 icode= >,\n",
         " <Residue C het=  resseq=18 icode= >,\n",
         " <Residue U het=  resseq=8 icode= >,\n",
         " <Residue G het=  resseq=11 icode= >,\n",
         " <Residue C het=  resseq=14 icode= >,\n",
         " <Residue U het=  resseq=17 icode= >,\n",
         " <Residue G het=  resseq=7 icode= >,\n",
         " <Residue C het=  resseq=20 icode= >,\n",
         " <Residue A het=  resseq=4 icode= >,\n",
         " <Residue A het=  resseq=10 icode= >,\n",
         " <Residue A het=  resseq=13 icode= >,\n",
         " <Residue A het=  resseq=19 icode= >,\n",
         " <Residue C het=  resseq=3 icode= >,\n",
         " <Residue U het=  resseq=16 icode= >,\n",
         " <Residue C het=  resseq=22 icode= >,\n",
         " <Residue U het=  resseq=6 icode= >,\n",
         " <Residue G het=  resseq=9 icode= >,\n",
         " <Residue C het=  resseq=15 icode= >]"
        ]
       },
       "execution_count": 30,
       "metadata": {},
       "output_type": "execute_result"
      }
     ],
     "source": [
      "#check\n",
      "aligner.neighbor"
     ]
    },
    {
     "cell_type": "code",
     "execution_count": 42,
     "metadata": {},
     "outputs": [],
     "source": [
      "from DPMacro.util import integrated_residue_iterator,allowed_residue_source,CHAIN_HOLDER\n",
      "from Bio.PDB.Chain import Chain\n",
      "from Bio.PDB.Model import Model\n",
      "def write_out_segments(residues:allowed_residue_source):\n",
      "    residue_list=list(integrated_residue_iterator(residues))\n",
      "    residue_list.sort(key=lambda x :-ord(x.get_parent().id)*10000+x.id[1])\n",
      "    model=Model('0')\n",
      "    for residue in residue_list:\n",
      "        chainid=residue.get_parent().id\n",
      "        if chainid not in model:\n",
      "            new_chain=Chain(chainid)\n",
      "            model.add(new_chain)\n",
      "        model[chainid].add(residue.copy())\n",
      "    return model\n",
      "\n"
     ]
    },
    {
     "cell_type": "code",
     "execution_count": 44,
     "metadata": {},
     "outputs": [],
     "source": [
      "write_out(write_out_segments(aligner.neighbor),'pocket.pdb')\n",
      "write_out(write_out_segments(aligner.selected_ligand),'ligand.pdb')"
     ]
    },
    {
     "cell_type": "code",
     "execution_count": 39,
     "metadata": {},
     "outputs": [
      {
       "data": {
        "text/plain": [
         "65"
        ]
       },
       "execution_count": 39,
       "metadata": {},
       "output_type": "execute_result"
      }
     ],
     "source": [
      "ord('A')"
     ]
    },
    {
     "cell_type": "code",
     "execution_count": 32,
     "metadata": {},
     "outputs": [
      {
       "data": {
        "text/plain": [
         "True"
        ]
       },
       "execution_count": 32,
       "metadata": {},
       "output_type": "execute_result"
      }
     ],
     "source": [
      "'A' in aligner.reference[0]"
     ]
    },
    {
     "cell_type": "markdown",
     "metadata": {},
     "source": [
      "function 1: do not know the homology chain ?\n",
      "run  aligner.transform() directly,\n",
      "it will try all chain combination and return the combination with lowest pocket rmsd.\n",
      "it will print: combination, number of hit residue,rmsd (full &pocket) \n",
      "and return: best chain combine; rmsd (full &pocket) \n",
      "\n",
      "then run aligner.save_align() to save the pdbs."
     ]
    },
    {
     "cell_type": "markdown",
     "metadata": {},
     "source": [
      "Warning!\n",
      "you can see that since cmd.align will drop a few atoms in each alignment cycle,\n",
      "wrong chain hit can have as nice behavior as the 'right one'\n",
      "going to be debugged. "
     ]
    },
    {
     "cell_type": "code",
     "execution_count": 19,
     "metadata": {},
     "outputs": [
      {
       "name": "stdout",
       "output_type": "stream",
       "text": [
        "('A', 'B')\t12\t(0.9076577425003052, 2.1527609825134277)\t('A', 'C')\t12\t(0.9076577425003052, 2.1527609825134277)\t('A', 'D')\t12\t(0.9076577425003052, 2.1527609825134277)\t('A', 'E')\t12\t(0.9076577425003052, 2.1527609825134277)\t('B', 'A')\t20\t(0.9076577425003052, 0.4204222559928894)\t('B', 'C')\t20\t(0.9076577425003052, 0.4204222559928894)\t('B', 'D')\t20\t(0.9076577425003052, 0.4204222559928894)\t('B', 'E')\t20\t(0.9076577425003052, 0.4204222559928894)\t('C', 'A')\t20\t(0.9076577425003052, 0.422482430934906)\t('C', 'B')\t20\t(0.9076577425003052, 0.422482430934906)\t('C', 'D')\t20\t(0.9076577425003052, 0.422482430934906)\t('C', 'E')\t20\t(0.9076577425003052, 0.422482430934906)\t('D', 'A')\t20\t(0.9076577425003052, 6.543617248535156)\t('D', 'B')\t20\t(0.9076577425003052, 6.543617248535156)\t('D', 'C')\t20\t(0.9076577425003052, 6.543617248535156)\t('D', 'E')\t20\t(0.9076577425003052, 6.543617248535156)\t('E', 'A')\t20\t(0.9076577425003052, 6.539333820343018)\t('E', 'B')\t20\t(0.9076577425003052, 6.539333820343018)\t('E', 'C')\t20\t(0.9076577425003052, 6.539333820343018)\t('E', 'D')\t20\t(0.9076577425003052, 6.539333820343018)\t"
       ]
      },
      {
       "data": {
        "text/plain": [
         "(('B', 'A'), (0.9076577425003052, 0.4204222559928894))"
        ]
       },
       "execution_count": 19,
       "metadata": {},
       "output_type": "execute_result"
      }
     ],
     "source": [
      "aligner.transform()"
     ]
    },
    {
     "cell_type": "code",
     "execution_count": 24,
     "metadata": {},
     "outputs": [
      {
       "data": {
        "text/plain": [
         "(0.9076577425003052, 0.4204222559928894)"
        ]
       },
       "execution_count": 24,
       "metadata": {},
       "output_type": "execute_result"
      }
     ],
     "source": [
      "aligner.save_align()"
     ]
    },
    {
     "cell_type": "markdown",
     "metadata": {},
     "source": [
      "function 2: sure about the chain map?\n",
      "set aligner.mapped_chain,and run aligner.save_align directly"
     ]
    },
    {
     "cell_type": "code",
     "execution_count": 28,
     "metadata": {},
     "outputs": [
      {
       "data": {
        "text/plain": [
         "(0.9076577425003052, 0.4204222559928894)"
        ]
       },
       "execution_count": 28,
       "metadata": {},
       "output_type": "execute_result"
      }
     ],
     "source": [
      "aligner.mapped_chain=('B','D')\n",
      "aligner.save_align(ligandfile='bdligand.pdb',\n",
      "                    ref_pocketfile='bdaligned_pocket.pdb',\n",
      "                    obj_pocketfile='bdmodel_pocket.pdb')"
     ]
    }
   ],
   "metadata": {
    "kernelspec": {
     "display_name": "Python 3.8.13 ('DPMacro': conda)",
     "language": "python",
     "name": "python3"
    },
    "language_info": {
     "codemirror_mode": {
      "name": "ipython",
      "version": 3
     },
     "file_extension": ".py",
     "mimetype": "text/x-python",
     "name": "python",
     "nbconvert_exporter": "python",
     "pygments_lexer": "ipython3",
     "version": "3.8.13"
    },
    "orig_nbformat": 4,
    "vscode": {
     "interpreter": {
      "hash": "addba8a6197b1a02b7526a9b18e98c564de9563e376efa36434cdf81fd89c84f"
     }
    }
   },
   "nbformat": 4,
   "nbformat_minor": 2
  }
  