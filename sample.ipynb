{
 "cells": [
  {
   "cell_type": "markdown",
   "metadata": {},
   "source": [
    "case1: renumber"
   ]
  },
  {
   "cell_type": "markdown",
   "metadata": {},
   "source": [
    "the base class ResidueFeatureExtractor is used for read/operate/save structure & features"
   ]
  },
  {
   "cell_type": "code",
   "execution_count": 26,
   "metadata": {},
   "outputs": [],
   "source": [
    "from DPMacro import hmt_FvProcessor\n",
    "p=hmt_FvProcessor('i')\n",
    "p.transform('sample/1bey_trunc_HL_Fv_ele.pdb')\n",
    "p.renumber_structure()\n",
    "p.write_built_structure('sample/renumber.pdb')"
   ]
  },
  {
   "cell_type": "code",
   "execution_count": 27,
   "metadata": {},
   "outputs": [
    {
     "data": {
      "text/plain": [
       "Index(['model', 'chain', 'residue', 'resname', 'object', 'anarci_order',\n",
       "       'Fv_annotation', 'chain_type', 'CDR'],\n",
       "      dtype='object')"
      ]
     },
     "execution_count": 27,
     "metadata": {},
     "output_type": "execute_result"
    }
   ],
   "source": [
    "p.frame.columns\n",
    "#p.frame is a DataFrame with all calculated feature"
   ]
  },
  {
   "cell_type": "code",
   "execution_count": 28,
   "metadata": {},
   "outputs": [
    {
     "data": {
      "text/plain": [
       "<Structure id=sample/1bey_trunc_HL_Fv_ele.pdb>"
      ]
     },
     "execution_count": 28,
     "metadata": {},
     "output_type": "execute_result"
    }
   ],
   "source": [
    "p.object\n",
    "##p.object is a Bio.PDB.Strucrture, I'll expatiate it later"
   ]
  },
  {
   "cell_type": "markdown",
   "metadata": {},
   "source": [
    "case2:features calculation"
   ]
  },
  {
   "cell_type": "code",
   "execution_count": 7,
   "metadata": {},
   "outputs": [
    {
     "name": "stdout",
     "output_type": "stream",
     "text": [
      "Index(['model', 'chain', 'residue', 'resname', 'object', 'SS_DSSP',\n",
      "       'EXP_DSSP_ASA', 'PHI_DSSP', 'PSI_DSSP', 'DSSP_INDEX',\n",
      "       'NH_O_1_RELIDX_DSSP', 'NH_O_1_ENERGY_DSSP', 'O_NH_1_RELIDX_DSSP',\n",
      "       'O_NH_1_ENERGY_DSSP', 'NH_O_2_RELIDX_DSSP', 'NH_O_2_ENERGY_DSSP',\n",
      "       'O_NH_2_RELIDX_DSSP', 'O_NH_2_ENERGY_DSSP', 'EXP_DSSP_RASA',\n",
      "       'PHI_INTERNAL', 'PSI_INTERNAL', 'OMG_INTERNAL', 'TAU_INTERNAL',\n",
      "       'CHI1_INTERNAL', 'EXP_HSE_B_U', 'EXP_HSE_B_D', 'EXP_HSE_RATIO',\n",
      "       'SASA_INTERNAL', 'hydrophobicity', 'static_charge', 'i_sasa',\n",
      "       'georged_i_sasa', 'salt_bridge', 'salted_charge',\n",
      "       'salted_hydrophobicity', 'f_sasa', 'surface', 'PFWY', 'PRKDE', 'PL',\n",
      "       'PLIV', 'NHydro', 'NCharg', 'psh', 'ppc', 'pnc'],\n",
      "      dtype='object')\n"
     ]
    }
   ],
   "source": [
    "from DPMacro import PPSExtractor,impute_beta,write_out\n",
    "p=PPSExtractor()\n",
    "features=p.transform('sample/1bey_trunc_HL_Fv_ele.pdb')\n",
    "print(p.frame.columns)"
   ]
  },
  {
   "cell_type": "markdown",
   "metadata": {},
   "source": [
    "output of .tranform() is also stored at p."
   ]
  },
  {
   "cell_type": "code",
   "execution_count": null,
   "metadata": {},
   "outputs": [],
   "source": []
  },
  {
   "cell_type": "code",
   "execution_count": 8,
   "metadata": {},
   "outputs": [],
   "source": [
    "impute_beta(p.object,lambda x:x.xtra['f_sasa'])\n",
    "write_out(p.object,'sample/sasa.pdb')\n",
    "impute_beta(p.object,lambda x:x.xtra['psh'])\n",
    "write_out(p.object,'sample/psh.pdb')"
   ]
  },
  {
   "cell_type": "markdown",
   "metadata": {},
   "source": [
    "numeric features could  be imputed into beta colums and is expeditious for versualization\n",
    "\n",
    "upper:fsasa(surface) lower:psh(hydrophobicity)\n",
    "\n",
    "\n",
    "<img src='sample/fsasa.png' width=480>\n",
    "\n",
    "<img src='sample/psh.png' width=480>\n"
   ]
  },
  {
   "cell_type": "markdown",
   "metadata": {},
   "source": [
    "case3:\n",
    "how to manipluate structure"
   ]
  },
  {
   "cell_type": "markdown",
   "metadata": {},
   "source": [
    "the structure object is PDB.Structure\n",
    "it is a hierarchical dict\n",
    "when refer to chain H's residue 1's CA atom in frame 0:"
   ]
  },
  {
   "cell_type": "code",
   "execution_count": 23,
   "metadata": {},
   "outputs": [
    {
     "data": {
      "text/plain": [
       "Bio.PDB.Atom.Atom"
      ]
     },
     "execution_count": 23,
     "metadata": {},
     "output_type": "execute_result"
    }
   ],
   "source": [
    "a1=p.object[0]['H'][(' ',1,' ')]['CA']\n",
    "type(a1)"
   ]
  },
  {
   "cell_type": "markdown",
   "metadata": {},
   "source": [
    "Atom stores all information we want:"
   ]
  },
  {
   "cell_type": "code",
   "execution_count": 24,
   "metadata": {},
   "outputs": [
    {
     "data": {
      "text/plain": [
       "{'level': 'A',\n",
       " 'parent': <Residue GLN het=  resseq=1 icode= >,\n",
       " 'name': 'CA',\n",
       " 'fullname': ' CA ',\n",
       " 'coord': array([ 6.897, 79.705, 43.426], dtype=float32),\n",
       " 'bfactor': 0.6888023922624382,\n",
       " 'occupancy': 1.0,\n",
       " 'altloc': ' ',\n",
       " 'full_id': ('sample/1bey_trunc_HL_Fv_ele.pdb',\n",
       "  0,\n",
       "  'H',\n",
       "  (' ', 1, ' '),\n",
       "  ('CA', ' ')),\n",
       " 'id': 'CA',\n",
       " 'disordered_flag': 0,\n",
       " 'anisou_array': None,\n",
       " 'siguij_array': None,\n",
       " 'sigatm_array': None,\n",
       " 'serial_number': 2,\n",
       " 'xtra': {},\n",
       " 'element': 'C',\n",
       " 'mass': 12.0107,\n",
       " 'pqr_charge': None,\n",
       " 'radius': None,\n",
       " '_sorting_keys': {'N': 0, 'CA': 1, 'C': 2, 'O': 3},\n",
       " 'sasa': 0.0}"
      ]
     },
     "execution_count": 24,
     "metadata": {},
     "output_type": "execute_result"
    }
   ],
   "source": [
    "a1.__dict__"
   ]
  },
  {
   "cell_type": "code",
   "execution_count": null,
   "metadata": {},
   "outputs": [],
   "source": []
  },
  {
   "cell_type": "code",
   "execution_count": 19,
   "metadata": {},
   "outputs": [
    {
     "ename": "KeyError",
     "evalue": "0",
     "output_type": "error",
     "traceback": [
      "\u001b[0;31m---------------------------------------------------------------------------\u001b[0m",
      "\u001b[0;31mKeyError\u001b[0m                                  Traceback (most recent call last)",
      "\u001b[1;32m/data/DPMacro/sample.ipynb Cell 11\u001b[0m in \u001b[0;36m<cell line: 1>\u001b[0;34m()\u001b[0m\n\u001b[0;32m----> <a href='vscode-notebook-cell://ssh-remote%2Bxx/data/DPMacro/sample.ipynb#X15sdnNjb2RlLXJlbW90ZQ%3D%3D?line=0'>1</a>\u001b[0m p\u001b[39m.\u001b[39;49mobject[\u001b[39m0\u001b[39;49m][\u001b[39m0\u001b[39;49m]\n",
      "File \u001b[0;32m/opt/miniconda/envs/DPMacro/lib/python3.8/site-packages/Bio/PDB/Entity.py:45\u001b[0m, in \u001b[0;36mEntity.__getitem__\u001b[0;34m(self, id)\u001b[0m\n\u001b[1;32m     43\u001b[0m \u001b[39mdef\u001b[39;00m \u001b[39m__getitem__\u001b[39m(\u001b[39mself\u001b[39m, \u001b[39mid\u001b[39m):\n\u001b[1;32m     44\u001b[0m     \u001b[39m\"\"\"Return the child with given id.\"\"\"\u001b[39;00m\n\u001b[0;32m---> 45\u001b[0m     \u001b[39mreturn\u001b[39;00m \u001b[39mself\u001b[39;49m\u001b[39m.\u001b[39;49mchild_dict[\u001b[39mid\u001b[39;49m]\n",
      "\u001b[0;31mKeyError\u001b[0m: 0"
     ]
    }
   ],
   "source": [
    "p.object[0][0]"
   ]
  }
 ],
 "metadata": {
  "kernelspec": {
   "display_name": "Python 3.8.13 ('DPMacro')",
   "language": "python",
   "name": "python3"
  },
  "language_info": {
   "codemirror_mode": {
    "name": "ipython",
    "version": 3
   },
   "file_extension": ".py",
   "mimetype": "text/x-python",
   "name": "python",
   "nbconvert_exporter": "python",
   "pygments_lexer": "ipython3",
   "version": "3.8.13"
  },
  "orig_nbformat": 4,
  "vscode": {
   "interpreter": {
    "hash": "dcab3a5f3c39308b899970cb85b5853a9b2cd85f1bb66a6df36eee6e190987e4"
   }
  }
 },
 "nbformat": 4,
 "nbformat_minor": 2
}
