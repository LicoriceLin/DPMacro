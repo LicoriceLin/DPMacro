{
 "cells": [
  {
   "cell_type": "markdown",
   "metadata": {},
   "source": [
    "case1: converting chain/residue id\n",
    "This case shows a sample to rebnumber antibody in IMGT scheme"
   ]
  },
  {
   "cell_type": "code",
   "execution_count": 46,
   "metadata": {},
   "outputs": [],
   "source": [
    "from DPMacro import hmt_FvProcessor,impute_beta\n",
    "p=hmt_FvProcessor('i')\n",
    "p.transform('sample/1bey_trunc_HL_Fv_ele.pdb')\n",
    "p.renumber_structure()\n",
    "impute_beta(p.object,lambda x: 1 if 'CDR' in x.xtra['CDR'] else 0)\n",
    "p.write_built_structure('sample/renumber.pdb')"
   ]
  },
  {
   "cell_type": "markdown",
   "metadata": {},
   "source": [
    "See renumber.png for detailed changes in residue id.\n",
    "\n",
    "The CDR is annotated at the sametime\n",
    "\n",
    "<img src='sample/renumber.png' width=480>"
   ]
  },
  {
   "attachments": {},
   "cell_type": "markdown",
   "metadata": {},
   "source": [
    "case1.1: extract H-L-A from a large system"
   ]
  },
  {
   "cell_type": "code",
   "execution_count": 1,
   "metadata": {},
   "outputs": [
    {
     "name": "stderr",
     "output_type": "stream",
     "text": [
      "/home/dzf/miniconda3/envs/SE3nv/lib/python3.9/site-packages/Bio/Data/SCOPData.py:18: BiopythonDeprecationWarning: The 'Bio.Data.SCOPData' module will be deprecated in a future release of Biopython in favor of 'Bio.Data.PDBData.\n",
      "  warnings.warn(\n"
     ]
    },
    {
     "data": {
      "text/plain": [
       "{'object': <Structure id=sample/7wn8_imgt.pdb>,\n",
       " 'scheme': 'i',\n",
       " 'chain_list': {'A': 'QLLFNKTKSVEFTFCNDTVVIPCFVTNMEAQNTTEVYVKWKFKGRDIYTFDGALNKSTVPTDFSSAKIEVSQLLKGDASLKMDKSDAVSHTGNYTCEVTELTREGETIIELKYRVV',\n",
       "  'C': 'QLLFNKTKSVTVVIPCFVTNMEAQNTTEVYVKWKFKGRDIYTFDGALNKSTVPTDFSSAKIEVSQLLKGDASLKMDKSDAVSHTGNYTCEVTELTREGETIIEL',\n",
       "  'H': 'QVQLVQSGAEVKKPGASVKVSCKASGYTFTSYGISWVRQAPGQGLEWMGWISAYNGNTNYAQKLQGRVTMTTDTSTSTAYMELRSLRSDDTAVYYCARGTVYFDYWGQGTLVTVSSASTKGPSVFPLAPGTAALGCLVKDYFPEPVTVSWNSGALTSGVHTFPAVLQSSGLYSLSSVVTVPSSSLGTQTYICNVNHKPSNTKVDKKA',\n",
       "  'L': 'EIVLTQSPATLSLSPGERATLSCRASQSLSRNHLAWYQQKPGQPPRLLIHWASTRESGVPDRFSGSGSGTDFTLTISSLQAEDVAVYYCQQHTQNTWTFGQGTKVEIKRTVAAPSVFIFPPSDEQLKSGTASVVCLLNNFYPREAKVQWKVDNALQSGNSQESVTEQDSKDSTYSLSSTLTLSKADYEKHKVYACEVTHQGLSSPVTKSFNRGE',\n",
       "  'P': 'QVQLVQSGAEVKKPGASVKVSCKASGYTFTSYGISWVRQAPGQGLEWMGWISAYNGNTNYAQKLQGRVTMTTDTSTSTAYMELRSLRSDDTAVYYCARGTVYFDYWGQGTLVTVSSASTKGPSVFPLAPAALGCLVKDYFPEPVTVSWNSGALTSGVHTFPAVLQSSGLYSLSSVVTVPSSSLGTQTYICNVNHKPSNTKVDKKAE',\n",
       "  'Q': 'EIVLTQSPATLSLSPGERATLSCRASQSLSRNHLAWYQQKPGQPPRLLIHWASTRESGVPDRFSGSGSGTDFTLTISSLQAEDVAVYYCQQHTQNTWTFGQGTKVEIKRTVAAPSVFIFPPSDEQLKSGTASVVCLLNNFYPREAKVQWKVDNALQSGNSQESVTEQDSKDSTYSLSSTLTLSKADYEKHKVYACEVTHQGLSSPVTKSFNRG'},\n",
       " 'Fv_count': {'A': 0, 'C': 0, 'H': 1, 'L': 1, 'P': 1, 'Q': 1},\n",
       " 'splited_chains': {'A': {'Ag0': <Chain id=A>,\n",
       "   'hetatm': [<Chain id=atom>, <Chain id=hetatm>]},\n",
       "  'C': {'Ag0': <Chain id=C>, 'hetatm': [<Chain id=atom>, <Chain id=hetatm>]},\n",
       "  'H': {'Fv0': <Chain id=Fv0>,\n",
       "   'Lk1': <Chain id=Lk1>,\n",
       "   'hetatm': <Chain id=hetatm>},\n",
       "  'L': {'Fv0': <Chain id=Fv0>,\n",
       "   'Lk1': <Chain id=Lk1>,\n",
       "   'hetatm': <Chain id=hetatm>},\n",
       "  'P': {'Fv0': <Chain id=Fv0>,\n",
       "   'Lk1': <Chain id=Lk1>,\n",
       "   'hetatm': <Chain id=hetatm>},\n",
       "  'Q': {'Fv0': <Chain id=Fv0>,\n",
       "   'Lk1': <Chain id=Lk1>,\n",
       "   'hetatm': <Chain id=hetatm>}}}"
      ]
     },
     "execution_count": 1,
     "metadata": {},
     "output_type": "execute_result"
    }
   ],
   "source": [
    "from DPMacro import FvStructureProcesser as fv\n",
    "from DPMacro import util as u\n",
    "s=u.read_in('sample/7wn8_imgt.pdb')\n",
    "f=fv(s)\n",
    "f.parse_structure('i')\n",
    "f.__dict__"
   ]
  },
  {
   "cell_type": "code",
   "execution_count": null,
   "metadata": {},
   "outputs": [],
   "source": [
    "m=u.Model(0)\n",
    "m.add(f.splited_chains['A']['Ag0'].copy())\n",
    "u.extract_hetatm(m['A'],inplace=True)\n",
    "m.add(f.splited_chains['H']['Fv0'].copy())\n",
    "m['Fv0'].id='H'\n",
    "m.add(f.splited_chains['L']['Fv0'].copy())\n",
    "m['Fv0'].id='L'\n",
    "u.write_out(m,'sample/7wn8_clean.pdb')"
   ]
  },
  {
   "cell_type": "markdown",
   "metadata": {},
   "source": [
    "case2:calculate features and impute B-factors\n",
    "This case shows a sample to calculate all supported feature in this suite."
   ]
  },
  {
   "cell_type": "code",
   "execution_count": 47,
   "metadata": {},
   "outputs": [
    {
     "name": "stdout",
     "output_type": "stream",
     "text": [
      "Index(['model', 'chain', 'residue', 'resname', 'object', 'SS_DSSP',\n",
      "       'EXP_DSSP_ASA', 'PHI_DSSP', 'PSI_DSSP', 'DSSP_INDEX',\n",
      "       'NH_O_1_RELIDX_DSSP', 'NH_O_1_ENERGY_DSSP', 'O_NH_1_RELIDX_DSSP',\n",
      "       'O_NH_1_ENERGY_DSSP', 'NH_O_2_RELIDX_DSSP', 'NH_O_2_ENERGY_DSSP',\n",
      "       'O_NH_2_RELIDX_DSSP', 'O_NH_2_ENERGY_DSSP', 'EXP_DSSP_RASA',\n",
      "       'PHI_INTERNAL', 'PSI_INTERNAL', 'OMG_INTERNAL', 'TAU_INTERNAL',\n",
      "       'CHI1_INTERNAL', 'EXP_HSE_B_U', 'EXP_HSE_B_D', 'EXP_HSE_RATIO',\n",
      "       'SASA_INTERNAL', 'hydrophobicity', 'static_charge', 'i_sasa',\n",
      "       'georged_i_sasa', 'salt_bridge', 'salted_charge',\n",
      "       'salted_hydrophobicity', 'f_sasa', 'surface', 'PFWY', 'PRKDE', 'PL',\n",
      "       'PLIV', 'NHydro', 'NCharg', 'psh', 'ppc', 'pnc'],\n",
      "      dtype='object')\n"
     ]
    }
   ],
   "source": [
    "from DPMacro import PPSExtractor,impute_beta,write_out\n",
    "p=PPSExtractor()\n",
    "features=p.transform('sample/1bey_trunc_HL_Fv_ele.pdb')\n",
    "print(p.frame.columns)"
   ]
  },
  {
   "cell_type": "code",
   "execution_count": 8,
   "metadata": {},
   "outputs": [],
   "source": [
    "impute_beta(p.object,lambda x:x.xtra['f_sasa'])\n",
    "write_out(p.object,'sample/sasa.pdb')\n",
    "impute_beta(p.object,lambda x:x.xtra['psh'])\n",
    "write_out(p.object,'sample/psh.pdb')"
   ]
  },
  {
   "cell_type": "markdown",
   "metadata": {},
   "source": [
    "numeric features could  be imputed into beta colums and is expeditious for versualization\n",
    "\n",
    "upper:fsasa(surface) lower:psh(hydrophobicity)\n",
    "\n",
    "\n",
    "<img src='sample/fsasa.png' width=480>\n",
    "\n",
    "\n",
    "<img src='sample/psh.png' width=480>\n"
   ]
  },
  {
   "cell_type": "markdown",
   "metadata": {},
   "source": [
    "Note:\n",
    "\n",
    "the base class ResidueFeatureExtractor is used for read/operate/save structure & features,\n",
    "it contains a frame (pd.DataFrame) to record features and a object to record structure,\n",
    "the feature is impute into the .xtra of each Residue in the object, as well."
   ]
  },
  {
   "cell_type": "code",
   "execution_count": 42,
   "metadata": {},
   "outputs": [
    {
     "data": {
      "text/plain": [
       "Index(['model', 'chain', 'residue', 'resname', 'object', 'anarci_order',\n",
       "       'Fv_annotation', 'chain_type', 'CDR'],\n",
       "      dtype='object')"
      ]
     },
     "execution_count": 42,
     "metadata": {},
     "output_type": "execute_result"
    }
   ],
   "source": [
    "p.frame.columns\n",
    "#p.frame is a DataFrame with all calculated feature"
   ]
  },
  {
   "cell_type": "code",
   "execution_count": 28,
   "metadata": {},
   "outputs": [
    {
     "data": {
      "text/plain": [
       "<Structure id=sample/1bey_trunc_HL_Fv_ele.pdb>"
      ]
     },
     "execution_count": 28,
     "metadata": {},
     "output_type": "execute_result"
    }
   ],
   "source": [
    "p.object\n",
    "##p.object is a Bio.PDB.Strucrture, I'll expatiate it later"
   ]
  },
  {
   "cell_type": "markdown",
   "metadata": {},
   "source": [
    "case3: manipulate structures\n",
    "This case shows a sample to extract ligand and pockets(residue with 6A of ligands) "
   ]
  },
  {
   "cell_type": "code",
   "execution_count": 33,
   "metadata": {},
   "outputs": [],
   "source": [
    "from DPMacro import PocketExtractor,reslist_to_guicode\n",
    "p=PocketExtractor()\n",
    "p.load_structure('sample/1uui.pdb')\n",
    "p.set_ligand(p.ligands[0])\n",
    "p.save('sample/1uui')"
   ]
  },
  {
   "cell_type": "code",
   "execution_count": 39,
   "metadata": {},
   "outputs": [
    {
     "data": {
      "text/plain": [
       "'( (chain B and resi 39 ) or (chain B and resi 27 ) or (chain B and resi 38 ) or (chain B and resi 26 ) or (chain B and resi 40 ) or (chain B and resi 22 ) or (chain B and resi 36 ) or (chain B and resi 29 ) or (chain B and resi 41 ) or (chain B and resi 28 ) or (chain B and resi 35 ) or (chain B and resi 24 ) or (chain B and resi 37 ) or (chain B and resi 23 ) )'"
      ]
     },
     "execution_count": 39,
     "metadata": {},
     "output_type": "execute_result"
    }
   ],
   "source": [
    "#convert pocket to selection code in pymol\n",
    "print(reslist_to_guicode(p.pocket))"
   ]
  },
  {
   "cell_type": "markdown",
   "metadata": {},
   "source": [
    "the pocket and ligand are saved into separated pdb file.\n",
    "\n",
    "<img src='sample/pockets.png' width=480>"
   ]
  },
  {
   "cell_type": "markdown",
   "metadata": {},
   "source": [
    "Note:\n",
    "\n",
    "the structure object is PDB.Structure\n",
    "it is a hierarchical dict\n",
    "when refer to chain H's residue 1's CA atom in frame 0:"
   ]
  },
  {
   "cell_type": "code",
   "execution_count": 23,
   "metadata": {},
   "outputs": [
    {
     "data": {
      "text/plain": [
       "Bio.PDB.Atom.Atom"
      ]
     },
     "execution_count": 23,
     "metadata": {},
     "output_type": "execute_result"
    }
   ],
   "source": [
    "a1=p.object[0]['H'][(' ',1,' ')]['CA']\n",
    "type(a1)"
   ]
  },
  {
   "cell_type": "markdown",
   "metadata": {},
   "source": [
    "Atom stores all information we want:"
   ]
  },
  {
   "cell_type": "code",
   "execution_count": 24,
   "metadata": {},
   "outputs": [
    {
     "data": {
      "text/plain": [
       "{'level': 'A',\n",
       " 'parent': <Residue GLN het=  resseq=1 icode= >,\n",
       " 'name': 'CA',\n",
       " 'fullname': ' CA ',\n",
       " 'coord': array([ 6.897, 79.705, 43.426], dtype=float32),\n",
       " 'bfactor': 0.6888023922624382,\n",
       " 'occupancy': 1.0,\n",
       " 'altloc': ' ',\n",
       " 'full_id': ('sample/1bey_trunc_HL_Fv_ele.pdb',\n",
       "  0,\n",
       "  'H',\n",
       "  (' ', 1, ' '),\n",
       "  ('CA', ' ')),\n",
       " 'id': 'CA',\n",
       " 'disordered_flag': 0,\n",
       " 'anisou_array': None,\n",
       " 'siguij_array': None,\n",
       " 'sigatm_array': None,\n",
       " 'serial_number': 2,\n",
       " 'xtra': {},\n",
       " 'element': 'C',\n",
       " 'mass': 12.0107,\n",
       " 'pqr_charge': None,\n",
       " 'radius': None,\n",
       " '_sorting_keys': {'N': 0, 'CA': 1, 'C': 2, 'O': 3},\n",
       " 'sasa': 0.0}"
      ]
     },
     "execution_count": 24,
     "metadata": {},
     "output_type": "execute_result"
    }
   ],
   "source": [
    "a1.__dict__"
   ]
  }
 ],
 "metadata": {
  "kernelspec": {
   "display_name": "Python 3.8.13 ('DPMacro')",
   "language": "python",
   "name": "python3"
  },
  "language_info": {
   "codemirror_mode": {
    "name": "ipython",
    "version": 3
   },
   "file_extension": ".py",
   "mimetype": "text/x-python",
   "name": "python",
   "nbconvert_exporter": "python",
   "pygments_lexer": "ipython3",
   "version": "3.9.16"
  },
  "orig_nbformat": 4,
  "vscode": {
   "interpreter": {
    "hash": "dcab3a5f3c39308b899970cb85b5853a9b2cd85f1bb66a6df36eee6e190987e4"
   }
  }
 },
 "nbformat": 4,
 "nbformat_minor": 2
}
